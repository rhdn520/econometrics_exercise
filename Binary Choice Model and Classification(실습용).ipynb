{
 "cells": [
  {
   "cell_type": "code",
   "execution_count": 5,
   "id": "0e81ec87",
   "metadata": {},
   "outputs": [],
   "source": [
    "import numpy as np\n",
    "import pandas as pd\n",
    "import matplotlib \n",
    "import matplotlib.pyplot as plt"
   ]
  },
  {
   "cell_type": "code",
   "execution_count": 6,
   "id": "7c8350cb",
   "metadata": {},
   "outputs": [],
   "source": [
    "df = pd.read_csv('lasvegas.csv', encoding='UTF-8')"
   ]
  },
  {
   "cell_type": "code",
   "execution_count": 7,
   "id": "bb0df25f",
   "metadata": {},
   "outputs": [
    {
     "data": {
      "text/html": [
       "<div>\n",
       "<style scoped>\n",
       "    .dataframe tbody tr th:only-of-type {\n",
       "        vertical-align: middle;\n",
       "    }\n",
       "\n",
       "    .dataframe tbody tr th {\n",
       "        vertical-align: top;\n",
       "    }\n",
       "\n",
       "    .dataframe thead th {\n",
       "        text-align: right;\n",
       "    }\n",
       "</style>\n",
       "<table border=\"1\" class=\"dataframe\">\n",
       "  <thead>\n",
       "    <tr style=\"text-align: right;\">\n",
       "      <th></th>\n",
       "      <th>LVR</th>\n",
       "      <th>REF</th>\n",
       "      <th>INSUR</th>\n",
       "      <th>RATE</th>\n",
       "      <th>AMOUNT</th>\n",
       "      <th>CREDIT</th>\n",
       "      <th>TERM</th>\n",
       "      <th>ARM</th>\n",
       "      <th>DELINQUENT</th>\n",
       "    </tr>\n",
       "  </thead>\n",
       "  <tbody>\n",
       "    <tr>\n",
       "      <th>0</th>\n",
       "      <td>80.0</td>\n",
       "      <td>0</td>\n",
       "      <td>1</td>\n",
       "      <td>6.355</td>\n",
       "      <td>1.5760</td>\n",
       "      <td>532</td>\n",
       "      <td>30</td>\n",
       "      <td>1</td>\n",
       "      <td>0</td>\n",
       "    </tr>\n",
       "    <tr>\n",
       "      <th>1</th>\n",
       "      <td>89.0</td>\n",
       "      <td>1</td>\n",
       "      <td>1</td>\n",
       "      <td>6.875</td>\n",
       "      <td>3.1595</td>\n",
       "      <td>703</td>\n",
       "      <td>30</td>\n",
       "      <td>1</td>\n",
       "      <td>0</td>\n",
       "    </tr>\n",
       "    <tr>\n",
       "      <th>2</th>\n",
       "      <td>80.0</td>\n",
       "      <td>1</td>\n",
       "      <td>1</td>\n",
       "      <td>7.080</td>\n",
       "      <td>1.7600</td>\n",
       "      <td>648</td>\n",
       "      <td>30</td>\n",
       "      <td>1</td>\n",
       "      <td>0</td>\n",
       "    </tr>\n",
       "    <tr>\n",
       "      <th>3</th>\n",
       "      <td>80.0</td>\n",
       "      <td>0</td>\n",
       "      <td>0</td>\n",
       "      <td>12.855</td>\n",
       "      <td>1.9680</td>\n",
       "      <td>599</td>\n",
       "      <td>30</td>\n",
       "      <td>1</td>\n",
       "      <td>1</td>\n",
       "    </tr>\n",
       "    <tr>\n",
       "      <th>4</th>\n",
       "      <td>70.0</td>\n",
       "      <td>1</td>\n",
       "      <td>0</td>\n",
       "      <td>5.760</td>\n",
       "      <td>1.8620</td>\n",
       "      <td>626</td>\n",
       "      <td>30</td>\n",
       "      <td>1</td>\n",
       "      <td>0</td>\n",
       "    </tr>\n",
       "  </tbody>\n",
       "</table>\n",
       "</div>"
      ],
      "text/plain": [
       "    LVR  REF  INSUR    RATE  AMOUNT  CREDIT  TERM  ARM  DELINQUENT\n",
       "0  80.0    0      1   6.355  1.5760     532    30    1           0\n",
       "1  89.0    1      1   6.875  3.1595     703    30    1           0\n",
       "2  80.0    1      1   7.080  1.7600     648    30    1           0\n",
       "3  80.0    0      0  12.855  1.9680     599    30    1           1\n",
       "4  70.0    1      0   5.760  1.8620     626    30    1           0"
      ]
     },
     "execution_count": 7,
     "metadata": {},
     "output_type": "execute_result"
    }
   ],
   "source": [
    "df.head()"
   ]
  },
  {
   "cell_type": "code",
   "execution_count": 8,
   "id": "bc701d4f",
   "metadata": {},
   "outputs": [],
   "source": [
    "y = df['DELINQUENT']\n",
    "X = df.drop('DELINQUENT',axis=1)"
   ]
  },
  {
   "cell_type": "code",
   "execution_count": null,
   "id": "7c1c29d1",
   "metadata": {},
   "outputs": [],
   "source": [
    "'''\n",
    "DELINQUENT = 1 (대출 만기일 이후, 90일 이내에 상환되지 않은 경우: 연체), 0 (그렇지 않은 경우)\n",
    "LVR = 자산 대비 대출의 비율\n",
    "REF = 1 (대출이 재융자로 이루어진 경우), 0 (그렇지 않은 경우)\n",
    "INSUR = 1 (해당 대출이 주택담보대출 보험에 가입된 경우), 0 (그렇지 않은 경우)\n",
    "RATE = 해당 대출의 대출시점 기준 최초 이자율\n",
    "CREDIT = 해당 대출을 실행한 사람의 신용 점수\n",
    "TERM = 해당 대출의 만기까지 실행 기간\n",
    "ARM = 1 (해당 대출이 변동 금리 상품인 경우), 0 (고정 금리인 경우)\n",
    "'''"
   ]
  },
  {
   "cell_type": "code",
   "execution_count": 9,
   "id": "1cc7bd3e",
   "metadata": {},
   "outputs": [],
   "source": [
    "import statsmodels.api as sm"
   ]
  },
  {
   "cell_type": "code",
   "execution_count": 10,
   "id": "c32d27ba",
   "metadata": {},
   "outputs": [],
   "source": [
    "X_cons = sm.add_constant(X)"
   ]
  },
  {
   "cell_type": "code",
   "execution_count": 12,
   "id": "c6b1990e",
   "metadata": {},
   "outputs": [
    {
     "name": "stdout",
     "output_type": "stream",
     "text": [
      "                            OLS Regression Results                            \n",
      "==============================================================================\n",
      "Dep. Variable:             DELINQUENT   R-squared:                       0.336\n",
      "Model:                            OLS   Adj. R-squared:                  0.331\n",
      "Method:                 Least Squares   F-statistic:                     62.77\n",
      "Date:                Sun, 19 Nov 2023   Prob (F-statistic):           4.83e-83\n",
      "Time:                        00:38:23   Log-Likelihood:                -295.80\n",
      "No. Observations:                1000   AIC:                             609.6\n",
      "Df Residuals:                     991   BIC:                             653.8\n",
      "Df Model:                           8                                         \n",
      "Covariance Type:            nonrobust                                         \n",
      "==============================================================================\n",
      "                 coef    std err          t      P>|t|      [0.025      0.975]\n",
      "------------------------------------------------------------------------------\n",
      "const          0.6885      0.211      3.259      0.001       0.274       1.103\n",
      "LVR            0.0016      0.001      2.070      0.039    8.43e-05       0.003\n",
      "REF           -0.0593      0.024     -2.489      0.013      -0.106      -0.013\n",
      "INSUR         -0.4816      0.024    -20.375      0.000      -0.528      -0.435\n",
      "RATE           0.0344      0.009      3.997      0.000       0.017       0.051\n",
      "AMOUNT         0.0238      0.013      1.876      0.061      -0.001       0.049\n",
      "CREDIT        -0.0004      0.000     -2.190      0.029      -0.001   -4.59e-05\n",
      "TERM          -0.0126      0.004     -3.566      0.000      -0.020      -0.006\n",
      "ARM            0.1283      0.032      4.024      0.000       0.066       0.191\n",
      "==============================================================================\n",
      "Omnibus:                       97.287   Durbin-Watson:                   1.832\n",
      "Prob(Omnibus):                  0.000   Jarque-Bera (JB):              137.152\n",
      "Skew:                           0.739   Prob(JB):                     1.65e-30\n",
      "Kurtosis:                       4.052   Cond. No.                     1.29e+04\n",
      "==============================================================================\n",
      "\n",
      "Notes:\n",
      "[1] Standard Errors assume that the covariance matrix of the errors is correctly specified.\n",
      "[2] The condition number is large, 1.29e+04. This might indicate that there are\n",
      "strong multicollinearity or other numerical problems.\n"
     ]
    }
   ],
   "source": [
    "Model = sm.OLS(y,X_cons).fit()\n",
    "print(Model.summary())"
   ]
  },
  {
   "cell_type": "markdown",
   "id": "0e4275af",
   "metadata": {},
   "source": [
    "## Sample Split"
   ]
  },
  {
   "cell_type": "code",
   "execution_count": 13,
   "id": "3f7ac19b",
   "metadata": {},
   "outputs": [],
   "source": [
    "from sklearn.linear_model import LinearRegression\n",
    "from sklearn.model_selection import train_test_split"
   ]
  },
  {
   "cell_type": "code",
   "execution_count": 14,
   "id": "24ec312a",
   "metadata": {},
   "outputs": [],
   "source": [
    "train, test = train_test_split(df, test_size=0.2, random_state=131)\n",
    "train, validation = train_test_split(train, test_size=0.25, random_state=211)"
   ]
  },
  {
   "cell_type": "code",
   "execution_count": 15,
   "id": "657e7fe8",
   "metadata": {},
   "outputs": [],
   "source": [
    "X = df.drop(['DELINQUENT'],axis=1)\n",
    "y = df['DELINQUENT']\n",
    "y_train = train['DELINQUENT']\n",
    "x_train = train.drop(['DELINQUENT'],axis=1)\n",
    "y_val = validation['DELINQUENT']\n",
    "X_val = validation.drop(['DELINQUENT'], axis=1)\n",
    "y_test = test['DELINQUENT']\n",
    "X_test = test.drop(['DELINQUENT'],axis=1)"
   ]
  },
  {
   "cell_type": "markdown",
   "id": "2864771f",
   "metadata": {},
   "source": [
    "## Linear Probability Model"
   ]
  },
  {
   "cell_type": "code",
   "execution_count": 16,
   "id": "a104d347",
   "metadata": {},
   "outputs": [
    {
     "data": {
      "text/html": [
       "<style>#sk-container-id-1 {color: black;}#sk-container-id-1 pre{padding: 0;}#sk-container-id-1 div.sk-toggleable {background-color: white;}#sk-container-id-1 label.sk-toggleable__label {cursor: pointer;display: block;width: 100%;margin-bottom: 0;padding: 0.3em;box-sizing: border-box;text-align: center;}#sk-container-id-1 label.sk-toggleable__label-arrow:before {content: \"▸\";float: left;margin-right: 0.25em;color: #696969;}#sk-container-id-1 label.sk-toggleable__label-arrow:hover:before {color: black;}#sk-container-id-1 div.sk-estimator:hover label.sk-toggleable__label-arrow:before {color: black;}#sk-container-id-1 div.sk-toggleable__content {max-height: 0;max-width: 0;overflow: hidden;text-align: left;background-color: #f0f8ff;}#sk-container-id-1 div.sk-toggleable__content pre {margin: 0.2em;color: black;border-radius: 0.25em;background-color: #f0f8ff;}#sk-container-id-1 input.sk-toggleable__control:checked~div.sk-toggleable__content {max-height: 200px;max-width: 100%;overflow: auto;}#sk-container-id-1 input.sk-toggleable__control:checked~label.sk-toggleable__label-arrow:before {content: \"▾\";}#sk-container-id-1 div.sk-estimator input.sk-toggleable__control:checked~label.sk-toggleable__label {background-color: #d4ebff;}#sk-container-id-1 div.sk-label input.sk-toggleable__control:checked~label.sk-toggleable__label {background-color: #d4ebff;}#sk-container-id-1 input.sk-hidden--visually {border: 0;clip: rect(1px 1px 1px 1px);clip: rect(1px, 1px, 1px, 1px);height: 1px;margin: -1px;overflow: hidden;padding: 0;position: absolute;width: 1px;}#sk-container-id-1 div.sk-estimator {font-family: monospace;background-color: #f0f8ff;border: 1px dotted black;border-radius: 0.25em;box-sizing: border-box;margin-bottom: 0.5em;}#sk-container-id-1 div.sk-estimator:hover {background-color: #d4ebff;}#sk-container-id-1 div.sk-parallel-item::after {content: \"\";width: 100%;border-bottom: 1px solid gray;flex-grow: 1;}#sk-container-id-1 div.sk-label:hover label.sk-toggleable__label {background-color: #d4ebff;}#sk-container-id-1 div.sk-serial::before {content: \"\";position: absolute;border-left: 1px solid gray;box-sizing: border-box;top: 0;bottom: 0;left: 50%;z-index: 0;}#sk-container-id-1 div.sk-serial {display: flex;flex-direction: column;align-items: center;background-color: white;padding-right: 0.2em;padding-left: 0.2em;position: relative;}#sk-container-id-1 div.sk-item {position: relative;z-index: 1;}#sk-container-id-1 div.sk-parallel {display: flex;align-items: stretch;justify-content: center;background-color: white;position: relative;}#sk-container-id-1 div.sk-item::before, #sk-container-id-1 div.sk-parallel-item::before {content: \"\";position: absolute;border-left: 1px solid gray;box-sizing: border-box;top: 0;bottom: 0;left: 50%;z-index: -1;}#sk-container-id-1 div.sk-parallel-item {display: flex;flex-direction: column;z-index: 1;position: relative;background-color: white;}#sk-container-id-1 div.sk-parallel-item:first-child::after {align-self: flex-end;width: 50%;}#sk-container-id-1 div.sk-parallel-item:last-child::after {align-self: flex-start;width: 50%;}#sk-container-id-1 div.sk-parallel-item:only-child::after {width: 0;}#sk-container-id-1 div.sk-dashed-wrapped {border: 1px dashed gray;margin: 0 0.4em 0.5em 0.4em;box-sizing: border-box;padding-bottom: 0.4em;background-color: white;}#sk-container-id-1 div.sk-label label {font-family: monospace;font-weight: bold;display: inline-block;line-height: 1.2em;}#sk-container-id-1 div.sk-label-container {text-align: center;}#sk-container-id-1 div.sk-container {/* jupyter's `normalize.less` sets `[hidden] { display: none; }` but bootstrap.min.css set `[hidden] { display: none !important; }` so we also need the `!important` here to be able to override the default hidden behavior on the sphinx rendered scikit-learn.org. See: https://github.com/scikit-learn/scikit-learn/issues/21755 */display: inline-block !important;position: relative;}#sk-container-id-1 div.sk-text-repr-fallback {display: none;}</style><div id=\"sk-container-id-1\" class=\"sk-top-container\"><div class=\"sk-text-repr-fallback\"><pre>LinearRegression()</pre><b>In a Jupyter environment, please rerun this cell to show the HTML representation or trust the notebook. <br />On GitHub, the HTML representation is unable to render, please try loading this page with nbviewer.org.</b></div><div class=\"sk-container\" hidden><div class=\"sk-item\"><div class=\"sk-estimator sk-toggleable\"><input class=\"sk-toggleable__control sk-hidden--visually\" id=\"sk-estimator-id-1\" type=\"checkbox\" checked><label for=\"sk-estimator-id-1\" class=\"sk-toggleable__label sk-toggleable__label-arrow\">LinearRegression</label><div class=\"sk-toggleable__content\"><pre>LinearRegression()</pre></div></div></div></div></div>"
      ],
      "text/plain": [
       "LinearRegression()"
      ]
     },
     "execution_count": 16,
     "metadata": {},
     "output_type": "execute_result"
    }
   ],
   "source": [
    "lpm = LinearRegression()\n",
    "lpm.fit(x_train,y_train)"
   ]
  },
  {
   "cell_type": "code",
   "execution_count": null,
   "id": "cc16f26f",
   "metadata": {},
   "outputs": [],
   "source": [
    "# verification\n",
    "# X_cons = sm.add_constant()\n",
    "# ver = sm.().fit()\n",
    "# ver.summary()"
   ]
  },
  {
   "cell_type": "code",
   "execution_count": 17,
   "id": "c63a2a24",
   "metadata": {},
   "outputs": [
    {
     "name": "stdout",
     "output_type": "stream",
     "text": [
      "0.48122881215887797\n",
      "[ 1.86194773e-03 -4.87932282e-02 -5.05783387e-01  4.77662042e-02\n",
      "  2.67200560e-02 -2.31706344e-04 -1.41172406e-02  1.44275719e-01]\n"
     ]
    }
   ],
   "source": [
    "print(lpm.intercept_)\n",
    "print(lpm.coef_)"
   ]
  },
  {
   "cell_type": "code",
   "execution_count": 23,
   "metadata": {},
   "outputs": [
    {
     "data": {
      "text/plain": [
       "array([ 1.42151063e-01, -1.15958245e-01,  6.38820070e-01,  3.22287934e-01,\n",
       "        9.21908435e-02,  1.27634936e-01, -1.14764068e-01,  6.41791464e-02,\n",
       "        3.80440996e-02,  1.01057011e-03,  6.04714023e-01,  2.96907404e-01,\n",
       "        2.81838986e-01,  6.32964583e-01,  5.55799258e-01, -1.44323881e-02,\n",
       "        3.94826230e-02,  4.36781428e-01, -1.07052195e-01,  2.22315793e-02,\n",
       "        1.54841596e-01,  5.39912645e-02,  3.92215885e-01,  6.30462222e-01,\n",
       "        5.35452176e-01,  1.25924735e-01,  5.86541419e-01,  1.25834879e-01,\n",
       "        5.00967863e-02,  6.30491572e-02, -7.67473887e-02,  5.27519209e-01,\n",
       "       -1.01269632e-02,  5.43834403e-01,  9.67278993e-02, -1.98045421e-01,\n",
       "        7.60183800e-02,  6.61006590e-02, -1.10573652e-01,  2.70220921e-01,\n",
       "        5.84919087e-02, -8.56588576e-02,  5.88331432e-01,  1.70346902e-01,\n",
       "        4.63684942e-02,  1.93045667e-01,  7.19044219e-01, -1.24813665e-02,\n",
       "        2.59462404e-01,  7.87006650e-02,  7.33306117e-02,  1.51948163e-01,\n",
       "        1.58376067e-01,  4.91734389e-02,  1.57443250e-02,  6.18801368e-01,\n",
       "        6.39189775e-02,  3.64844704e-01,  1.03198521e-01, -8.61850933e-02,\n",
       "        5.27182503e-01,  3.49099352e-02,  4.85012670e-01,  3.35810709e-01,\n",
       "        4.77501503e-02,  4.82835929e-01,  5.15300082e-02,  1.60507431e-01,\n",
       "        4.86893970e-01,  9.07254337e-02,  4.07953354e-01,  6.23371579e-01,\n",
       "        1.58790265e-01,  4.55372710e-01,  1.09738683e-01,  1.96856419e-01,\n",
       "        7.74185912e-01,  5.15989806e-02,  6.15999942e-01, -1.58738846e-01,\n",
       "        2.76606268e-01,  1.10934269e-02,  6.75469390e-01,  7.09223181e-02,\n",
       "        9.00482474e-02,  7.51898094e-01,  5.65039539e-02,  5.73150051e-01,\n",
       "        8.17025621e-02, -8.26769498e-02, -1.69112707e-01, -1.26125692e-01,\n",
       "        5.94471994e-01,  6.47971463e-01, -1.18441528e-01,  6.53298611e-02,\n",
       "        4.61605996e-01,  1.65294140e-02,  6.06164605e-01,  8.12006564e-02,\n",
       "       -3.45083496e-02,  1.77536867e-01,  4.69983529e-02,  1.79143193e-01,\n",
       "        5.31734458e-01, -4.80608525e-03,  1.93155746e-01,  3.74826814e-02,\n",
       "        1.55889378e-01,  4.86725849e-02,  1.20661455e-02,  1.06825368e-01,\n",
       "        9.06565997e-01,  7.94884335e-02, -4.96163000e-02, -1.08059479e-01,\n",
       "        6.63861865e-01,  3.91395918e-01, -1.11522154e-03, -7.65222723e-02,\n",
       "        1.23557394e-04,  2.09489483e-01,  6.37088408e-01,  3.04432557e-02,\n",
       "        1.64367970e-01, -4.25812081e-02,  2.30393698e-01,  3.46076924e-02,\n",
       "       -1.14900190e-02,  6.77789777e-01,  4.61993221e-02,  1.04799869e-01,\n",
       "        9.91850140e-02,  8.55700265e-02,  5.51991911e-02,  1.71852013e-02,\n",
       "        4.62333611e-01,  5.24646616e-02,  3.47636181e-02,  6.04826191e-01,\n",
       "        2.72462338e-01,  6.55546801e-01,  6.17026742e-01,  1.15299269e-01,\n",
       "        3.58429129e-01,  4.69644040e-02,  5.30594412e-01,  1.98524047e-01,\n",
       "       -5.01338988e-02,  1.70530115e-01,  2.22867624e-01,  5.76832080e-01,\n",
       "        1.08585846e-02, -1.61516485e-01,  6.85441955e-02,  2.54623157e-02,\n",
       "        5.04639990e-01,  1.90327214e-01, -1.34505736e-02,  2.71941345e-02,\n",
       "        1.47078962e-01, -1.18759178e-01,  4.07287916e-02,  3.29293131e-02,\n",
       "        8.11908999e-02,  4.56041605e-01,  5.91671722e-01,  1.61803875e-02,\n",
       "        8.02086863e-02,  2.91389715e-01, -7.56070884e-02,  6.37046048e-01,\n",
       "        9.55751525e-02,  5.33071687e-01,  9.84896901e-03,  5.08653063e-01,\n",
       "        1.39555381e-01, -5.84738164e-03,  1.65907564e-01,  4.66043394e-01,\n",
       "        7.60616533e-01,  2.00294439e-01,  1.06909794e-01,  2.31743402e-01,\n",
       "       -3.10566085e-03,  6.31302393e-02,  1.24390766e-01, -9.99723839e-02,\n",
       "        1.50215142e-01,  6.24015712e-02, -8.65499138e-03, -6.39061050e-03,\n",
       "        5.19440490e-01,  1.34732006e-01,  6.69628662e-01,  6.63354309e-01,\n",
       "        4.45720734e-02,  8.67949837e-02,  6.34188423e-01, -1.35696435e-01])"
      ]
     },
     "execution_count": 23,
     "metadata": {},
     "output_type": "execute_result"
    }
   ],
   "source": [
    "lpm.predict(X_val)[:]"
   ]
  },
  {
   "cell_type": "code",
   "execution_count": 45,
   "id": "e81d1e01",
   "metadata": {},
   "outputs": [
    {
     "data": {
      "text/html": [
       "<div>\n",
       "<style scoped>\n",
       "    .dataframe tbody tr th:only-of-type {\n",
       "        vertical-align: middle;\n",
       "    }\n",
       "\n",
       "    .dataframe tbody tr th {\n",
       "        vertical-align: top;\n",
       "    }\n",
       "\n",
       "    .dataframe thead th {\n",
       "        text-align: right;\n",
       "    }\n",
       "</style>\n",
       "<table border=\"1\" class=\"dataframe\">\n",
       "  <thead>\n",
       "    <tr style=\"text-align: right;\">\n",
       "      <th></th>\n",
       "      <th>pred_prob</th>\n",
       "    </tr>\n",
       "  </thead>\n",
       "  <tbody>\n",
       "    <tr>\n",
       "      <th>0</th>\n",
       "      <td>0.142151</td>\n",
       "    </tr>\n",
       "    <tr>\n",
       "      <th>1</th>\n",
       "      <td>-0.115958</td>\n",
       "    </tr>\n",
       "    <tr>\n",
       "      <th>2</th>\n",
       "      <td>0.638820</td>\n",
       "    </tr>\n",
       "    <tr>\n",
       "      <th>3</th>\n",
       "      <td>0.322288</td>\n",
       "    </tr>\n",
       "    <tr>\n",
       "      <th>4</th>\n",
       "      <td>0.092191</td>\n",
       "    </tr>\n",
       "  </tbody>\n",
       "</table>\n",
       "</div>"
      ],
      "text/plain": [
       "   pred_prob\n",
       "0   0.142151\n",
       "1  -0.115958\n",
       "2   0.638820\n",
       "3   0.322288\n",
       "4   0.092191"
      ]
     },
     "execution_count": 45,
     "metadata": {},
     "output_type": "execute_result"
    }
   ],
   "source": [
    "result = pd.DataFrame(lpm.predict(X_val), columns=['pred_prob']) \n",
    "result.head()"
   ]
  },
  {
   "cell_type": "code",
   "execution_count": 46,
   "id": "260409a8",
   "metadata": {},
   "outputs": [
    {
     "data": {
      "text/plain": [
       "<Axes: ylabel='Frequency'>"
      ]
     },
     "execution_count": 46,
     "metadata": {},
     "output_type": "execute_result"
    },
    {
     "data": {
      "image/png": "[encoded data removed]",
      "text/plain": [
       "<Figure size 640x480 with 1 Axes>"
      ]
     },
     "metadata": {},
     "output_type": "display_data"
    }
   ],
   "source": [
    "result.pred_prob.plot(kind='hist',bins=50, xlim=([0,1]))"
   ]
  },
  {
   "cell_type": "code",
   "execution_count": 33,
   "id": "e8f27cbc",
   "metadata": {},
   "outputs": [],
   "source": [
    "from sklearn.metrics import roc_curve, auc, confusion_matrix"
   ]
  },
  {
   "cell_type": "code",
   "execution_count": 36,
   "id": "b8f9c467",
   "metadata": {},
   "outputs": [
    {
     "name": "stdout",
     "output_type": "stream",
     "text": [
      "[0.         0.00598802 0.00598802 0.01197605 0.01197605 0.02994012\n",
      " 0.02994012 0.04191617 0.04191617 0.06586826 0.06586826 0.07784431\n",
      " 0.07784431 0.08383234 0.08383234 0.09580838 0.09580838 0.10179641\n",
      " 0.10179641 0.10778443 0.10778443 0.11377246 0.11377246 0.11976048\n",
      " 0.11976048 0.1497006  0.1497006  0.22155689 0.22155689 0.24550898\n",
      " 0.24550898 0.26347305 0.26347305 0.35329341 0.35329341 0.38323353\n",
      " 0.38323353 1.        ]\n",
      "[0.         0.         0.03030303 0.03030303 0.15151515 0.15151515\n",
      " 0.18181818 0.18181818 0.21212121 0.21212121 0.3030303  0.3030303\n",
      " 0.36363636 0.36363636 0.42424242 0.42424242 0.45454545 0.45454545\n",
      " 0.57575758 0.57575758 0.60606061 0.60606061 0.72727273 0.72727273\n",
      " 0.75757576 0.75757576 0.78787879 0.78787879 0.81818182 0.81818182\n",
      " 0.84848485 0.84848485 0.87878788 0.87878788 0.90909091 0.90909091\n",
      " 1.         1.        ]\n",
      "[        inf  0.906566    0.77418591  0.76061653  0.67546939  0.66335431\n",
      "  0.6555468   0.63882007  0.63708841  0.63046222  0.61702674  0.60616461\n",
      "  0.60471402  0.59447199  0.58833143  0.57683208  0.57315005  0.55579926\n",
      "  0.53173446  0.53059441  0.52751921  0.5271825   0.48689397  0.48501267\n",
      "  0.48283593  0.45537271  0.43678143  0.27246234  0.27022092  0.22286762\n",
      "  0.20948948  0.19685642  0.19315575  0.15021514  0.14707896  0.12592474\n",
      "  0.11529927 -0.19804542]\n"
     ]
    }
   ],
   "source": [
    "fpr, tpr, threshold = roc_curve(y_val, result.pred_prob)\n",
    "print(fpr)\n",
    "print(tpr)\n",
    "print(threshold)"
   ]
  },
  {
   "cell_type": "code",
   "execution_count": 37,
   "id": "903d6f5b",
   "metadata": {},
   "outputs": [
    {
     "data": {
      "text/html": [
       "<div>\n",
       "<style scoped>\n",
       "    .dataframe tbody tr th:only-of-type {\n",
       "        vertical-align: middle;\n",
       "    }\n",
       "\n",
       "    .dataframe tbody tr th {\n",
       "        vertical-align: top;\n",
       "    }\n",
       "\n",
       "    .dataframe thead th {\n",
       "        text-align: right;\n",
       "    }\n",
       "</style>\n",
       "<table border=\"1\" class=\"dataframe\">\n",
       "  <thead>\n",
       "    <tr style=\"text-align: right;\">\n",
       "      <th></th>\n",
       "      <th>fpr</th>\n",
       "      <th>tpr</th>\n",
       "      <th>threshold</th>\n",
       "    </tr>\n",
       "  </thead>\n",
       "  <tbody>\n",
       "    <tr>\n",
       "      <th>0</th>\n",
       "      <td>0.000000</td>\n",
       "      <td>0.000000</td>\n",
       "      <td>inf</td>\n",
       "    </tr>\n",
       "    <tr>\n",
       "      <th>1</th>\n",
       "      <td>0.005988</td>\n",
       "      <td>0.000000</td>\n",
       "      <td>0.906566</td>\n",
       "    </tr>\n",
       "    <tr>\n",
       "      <th>2</th>\n",
       "      <td>0.005988</td>\n",
       "      <td>0.030303</td>\n",
       "      <td>0.774186</td>\n",
       "    </tr>\n",
       "    <tr>\n",
       "      <th>3</th>\n",
       "      <td>0.011976</td>\n",
       "      <td>0.030303</td>\n",
       "      <td>0.760617</td>\n",
       "    </tr>\n",
       "    <tr>\n",
       "      <th>4</th>\n",
       "      <td>0.011976</td>\n",
       "      <td>0.151515</td>\n",
       "      <td>0.675469</td>\n",
       "    </tr>\n",
       "  </tbody>\n",
       "</table>\n",
       "</div>"
      ],
      "text/plain": [
       "        fpr       tpr  threshold\n",
       "0  0.000000  0.000000        inf\n",
       "1  0.005988  0.000000   0.906566\n",
       "2  0.005988  0.030303   0.774186\n",
       "3  0.011976  0.030303   0.760617\n",
       "4  0.011976  0.151515   0.675469"
      ]
     },
     "execution_count": 37,
     "metadata": {},
     "output_type": "execute_result"
    }
   ],
   "source": [
    "roc_result = pd.DataFrame([fpr, tpr, threshold], index=['fpr','tpr','threshold']).T\n",
    "roc_result.head()"
   ]
  },
  {
   "cell_type": "code",
   "execution_count": 42,
   "id": "75fcaead",
   "metadata": {},
   "outputs": [
    {
     "data": {
      "text/html": [
       "<div>\n",
       "<style scoped>\n",
       "    .dataframe tbody tr th:only-of-type {\n",
       "        vertical-align: middle;\n",
       "    }\n",
       "\n",
       "    .dataframe tbody tr th {\n",
       "        vertical-align: top;\n",
       "    }\n",
       "\n",
       "    .dataframe thead th {\n",
       "        text-align: right;\n",
       "    }\n",
       "</style>\n",
       "<table border=\"1\" class=\"dataframe\">\n",
       "  <thead>\n",
       "    <tr style=\"text-align: right;\">\n",
       "      <th></th>\n",
       "      <th>fpr</th>\n",
       "      <th>tpr</th>\n",
       "      <th>threshold</th>\n",
       "      <th>best</th>\n",
       "    </tr>\n",
       "  </thead>\n",
       "  <tbody>\n",
       "    <tr>\n",
       "      <th>0</th>\n",
       "      <td>0.000000</td>\n",
       "      <td>0.000000</td>\n",
       "      <td>inf</td>\n",
       "      <td>1.000000</td>\n",
       "    </tr>\n",
       "    <tr>\n",
       "      <th>1</th>\n",
       "      <td>0.005988</td>\n",
       "      <td>0.000000</td>\n",
       "      <td>0.906566</td>\n",
       "      <td>0.994012</td>\n",
       "    </tr>\n",
       "    <tr>\n",
       "      <th>2</th>\n",
       "      <td>0.005988</td>\n",
       "      <td>0.030303</td>\n",
       "      <td>0.774186</td>\n",
       "      <td>1.024315</td>\n",
       "    </tr>\n",
       "    <tr>\n",
       "      <th>3</th>\n",
       "      <td>0.011976</td>\n",
       "      <td>0.030303</td>\n",
       "      <td>0.760617</td>\n",
       "      <td>1.018327</td>\n",
       "    </tr>\n",
       "    <tr>\n",
       "      <th>4</th>\n",
       "      <td>0.011976</td>\n",
       "      <td>0.151515</td>\n",
       "      <td>0.675469</td>\n",
       "      <td>1.139539</td>\n",
       "    </tr>\n",
       "    <tr>\n",
       "      <th>5</th>\n",
       "      <td>0.029940</td>\n",
       "      <td>0.151515</td>\n",
       "      <td>0.663354</td>\n",
       "      <td>1.121575</td>\n",
       "    </tr>\n",
       "    <tr>\n",
       "      <th>6</th>\n",
       "      <td>0.029940</td>\n",
       "      <td>0.181818</td>\n",
       "      <td>0.655547</td>\n",
       "      <td>1.151878</td>\n",
       "    </tr>\n",
       "    <tr>\n",
       "      <th>7</th>\n",
       "      <td>0.041916</td>\n",
       "      <td>0.181818</td>\n",
       "      <td>0.638820</td>\n",
       "      <td>1.139902</td>\n",
       "    </tr>\n",
       "    <tr>\n",
       "      <th>8</th>\n",
       "      <td>0.041916</td>\n",
       "      <td>0.212121</td>\n",
       "      <td>0.637088</td>\n",
       "      <td>1.170205</td>\n",
       "    </tr>\n",
       "    <tr>\n",
       "      <th>9</th>\n",
       "      <td>0.065868</td>\n",
       "      <td>0.212121</td>\n",
       "      <td>0.630462</td>\n",
       "      <td>1.146253</td>\n",
       "    </tr>\n",
       "    <tr>\n",
       "      <th>10</th>\n",
       "      <td>0.065868</td>\n",
       "      <td>0.303030</td>\n",
       "      <td>0.617027</td>\n",
       "      <td>1.237162</td>\n",
       "    </tr>\n",
       "    <tr>\n",
       "      <th>11</th>\n",
       "      <td>0.077844</td>\n",
       "      <td>0.303030</td>\n",
       "      <td>0.606165</td>\n",
       "      <td>1.225186</td>\n",
       "    </tr>\n",
       "    <tr>\n",
       "      <th>12</th>\n",
       "      <td>0.077844</td>\n",
       "      <td>0.363636</td>\n",
       "      <td>0.604714</td>\n",
       "      <td>1.285792</td>\n",
       "    </tr>\n",
       "    <tr>\n",
       "      <th>13</th>\n",
       "      <td>0.083832</td>\n",
       "      <td>0.363636</td>\n",
       "      <td>0.594472</td>\n",
       "      <td>1.279804</td>\n",
       "    </tr>\n",
       "    <tr>\n",
       "      <th>14</th>\n",
       "      <td>0.083832</td>\n",
       "      <td>0.424242</td>\n",
       "      <td>0.588331</td>\n",
       "      <td>1.340410</td>\n",
       "    </tr>\n",
       "    <tr>\n",
       "      <th>15</th>\n",
       "      <td>0.095808</td>\n",
       "      <td>0.424242</td>\n",
       "      <td>0.576832</td>\n",
       "      <td>1.328434</td>\n",
       "    </tr>\n",
       "    <tr>\n",
       "      <th>16</th>\n",
       "      <td>0.095808</td>\n",
       "      <td>0.454545</td>\n",
       "      <td>0.573150</td>\n",
       "      <td>1.358737</td>\n",
       "    </tr>\n",
       "    <tr>\n",
       "      <th>17</th>\n",
       "      <td>0.101796</td>\n",
       "      <td>0.454545</td>\n",
       "      <td>0.555799</td>\n",
       "      <td>1.352749</td>\n",
       "    </tr>\n",
       "    <tr>\n",
       "      <th>18</th>\n",
       "      <td>0.101796</td>\n",
       "      <td>0.575758</td>\n",
       "      <td>0.531734</td>\n",
       "      <td>1.473961</td>\n",
       "    </tr>\n",
       "    <tr>\n",
       "      <th>19</th>\n",
       "      <td>0.107784</td>\n",
       "      <td>0.575758</td>\n",
       "      <td>0.530594</td>\n",
       "      <td>1.467973</td>\n",
       "    </tr>\n",
       "    <tr>\n",
       "      <th>20</th>\n",
       "      <td>0.107784</td>\n",
       "      <td>0.606061</td>\n",
       "      <td>0.527519</td>\n",
       "      <td>1.498276</td>\n",
       "    </tr>\n",
       "    <tr>\n",
       "      <th>21</th>\n",
       "      <td>0.113772</td>\n",
       "      <td>0.606061</td>\n",
       "      <td>0.527183</td>\n",
       "      <td>1.492288</td>\n",
       "    </tr>\n",
       "    <tr>\n",
       "      <th>22</th>\n",
       "      <td>0.113772</td>\n",
       "      <td>0.727273</td>\n",
       "      <td>0.486894</td>\n",
       "      <td>1.613500</td>\n",
       "    </tr>\n",
       "    <tr>\n",
       "      <th>23</th>\n",
       "      <td>0.119760</td>\n",
       "      <td>0.727273</td>\n",
       "      <td>0.485013</td>\n",
       "      <td>1.607512</td>\n",
       "    </tr>\n",
       "    <tr>\n",
       "      <th>24</th>\n",
       "      <td>0.119760</td>\n",
       "      <td>0.757576</td>\n",
       "      <td>0.482836</td>\n",
       "      <td>1.637815</td>\n",
       "    </tr>\n",
       "    <tr>\n",
       "      <th>25</th>\n",
       "      <td>0.149701</td>\n",
       "      <td>0.757576</td>\n",
       "      <td>0.455373</td>\n",
       "      <td>1.607875</td>\n",
       "    </tr>\n",
       "    <tr>\n",
       "      <th>26</th>\n",
       "      <td>0.149701</td>\n",
       "      <td>0.787879</td>\n",
       "      <td>0.436781</td>\n",
       "      <td>1.638178</td>\n",
       "    </tr>\n",
       "    <tr>\n",
       "      <th>27</th>\n",
       "      <td>0.221557</td>\n",
       "      <td>0.787879</td>\n",
       "      <td>0.272462</td>\n",
       "      <td>1.566322</td>\n",
       "    </tr>\n",
       "    <tr>\n",
       "      <th>28</th>\n",
       "      <td>0.221557</td>\n",
       "      <td>0.818182</td>\n",
       "      <td>0.270221</td>\n",
       "      <td>1.596625</td>\n",
       "    </tr>\n",
       "    <tr>\n",
       "      <th>29</th>\n",
       "      <td>0.245509</td>\n",
       "      <td>0.818182</td>\n",
       "      <td>0.222868</td>\n",
       "      <td>1.572673</td>\n",
       "    </tr>\n",
       "    <tr>\n",
       "      <th>30</th>\n",
       "      <td>0.245509</td>\n",
       "      <td>0.848485</td>\n",
       "      <td>0.209489</td>\n",
       "      <td>1.602976</td>\n",
       "    </tr>\n",
       "    <tr>\n",
       "      <th>31</th>\n",
       "      <td>0.263473</td>\n",
       "      <td>0.848485</td>\n",
       "      <td>0.196856</td>\n",
       "      <td>1.585012</td>\n",
       "    </tr>\n",
       "    <tr>\n",
       "      <th>32</th>\n",
       "      <td>0.263473</td>\n",
       "      <td>0.878788</td>\n",
       "      <td>0.193156</td>\n",
       "      <td>1.615315</td>\n",
       "    </tr>\n",
       "    <tr>\n",
       "      <th>33</th>\n",
       "      <td>0.353293</td>\n",
       "      <td>0.878788</td>\n",
       "      <td>0.150215</td>\n",
       "      <td>1.525494</td>\n",
       "    </tr>\n",
       "    <tr>\n",
       "      <th>34</th>\n",
       "      <td>0.353293</td>\n",
       "      <td>0.909091</td>\n",
       "      <td>0.147079</td>\n",
       "      <td>1.555797</td>\n",
       "    </tr>\n",
       "    <tr>\n",
       "      <th>35</th>\n",
       "      <td>0.383234</td>\n",
       "      <td>0.909091</td>\n",
       "      <td>0.125925</td>\n",
       "      <td>1.525857</td>\n",
       "    </tr>\n",
       "    <tr>\n",
       "      <th>36</th>\n",
       "      <td>0.383234</td>\n",
       "      <td>1.000000</td>\n",
       "      <td>0.115299</td>\n",
       "      <td>1.616766</td>\n",
       "    </tr>\n",
       "    <tr>\n",
       "      <th>37</th>\n",
       "      <td>1.000000</td>\n",
       "      <td>1.000000</td>\n",
       "      <td>-0.198045</td>\n",
       "      <td>1.000000</td>\n",
       "    </tr>\n",
       "  </tbody>\n",
       "</table>\n",
       "</div>"
      ],
      "text/plain": [
       "         fpr       tpr  threshold      best\n",
       "0   0.000000  0.000000        inf  1.000000\n",
       "1   0.005988  0.000000   0.906566  0.994012\n",
       "2   0.005988  0.030303   0.774186  1.024315\n",
       "3   0.011976  0.030303   0.760617  1.018327\n",
       "4   0.011976  0.151515   0.675469  1.139539\n",
       "5   0.029940  0.151515   0.663354  1.121575\n",
       "6   0.029940  0.181818   0.655547  1.151878\n",
       "7   0.041916  0.181818   0.638820  1.139902\n",
       "8   0.041916  0.212121   0.637088  1.170205\n",
       "9   0.065868  0.212121   0.630462  1.146253\n",
       "10  0.065868  0.303030   0.617027  1.237162\n",
       "11  0.077844  0.303030   0.606165  1.225186\n",
       "12  0.077844  0.363636   0.604714  1.285792\n",
       "13  0.083832  0.363636   0.594472  1.279804\n",
       "14  0.083832  0.424242   0.588331  1.340410\n",
       "15  0.095808  0.424242   0.576832  1.328434\n",
       "16  0.095808  0.454545   0.573150  1.358737\n",
       "17  0.101796  0.454545   0.555799  1.352749\n",
       "18  0.101796  0.575758   0.531734  1.473961\n",
       "19  0.107784  0.575758   0.530594  1.467973\n",
       "20  0.107784  0.606061   0.527519  1.498276\n",
       "21  0.113772  0.606061   0.527183  1.492288\n",
       "22  0.113772  0.727273   0.486894  1.613500\n",
       "23  0.119760  0.727273   0.485013  1.607512\n",
       "24  0.119760  0.757576   0.482836  1.637815\n",
       "25  0.149701  0.757576   0.455373  1.607875\n",
       "26  0.149701  0.787879   0.436781  1.638178\n",
       "27  0.221557  0.787879   0.272462  1.566322\n",
       "28  0.221557  0.818182   0.270221  1.596625\n",
       "29  0.245509  0.818182   0.222868  1.572673\n",
       "30  0.245509  0.848485   0.209489  1.602976\n",
       "31  0.263473  0.848485   0.196856  1.585012\n",
       "32  0.263473  0.878788   0.193156  1.615315\n",
       "33  0.353293  0.878788   0.150215  1.525494\n",
       "34  0.353293  0.909091   0.147079  1.555797\n",
       "35  0.383234  0.909091   0.125925  1.525857\n",
       "36  0.383234  1.000000   0.115299  1.616766\n",
       "37  1.000000  1.000000  -0.198045  1.000000"
      ]
     },
     "execution_count": 42,
     "metadata": {},
     "output_type": "execute_result"
    }
   ],
   "source": [
    "# 경계값 기준은 연구목적에 맞게 짜면 됩니다.\n",
    "# 여기서는 (1-fpr)+tpr 극대화하는 경계값을 찾습니다.\n",
    "\n",
    "roc_result['best']=(1-roc_result['fpr']) + roc_result['tpr']\n",
    "roc_result\n",
    "# roc_result.best.idxmax()"
   ]
  },
  {
   "cell_type": "code",
   "execution_count": 47,
   "metadata": {},
   "outputs": [
    {
     "data": {
      "text/plain": [
       "0.4367814275750931"
      ]
     },
     "execution_count": 47,
     "metadata": {},
     "output_type": "execute_result"
    }
   ],
   "source": [
    "optimal_threshold = roc_result.threshold[roc_result.best.idxmax()]\n",
    "optimal_threshold"
   ]
  },
  {
   "cell_type": "code",
   "execution_count": 48,
   "id": "28ce0c3d",
   "metadata": {},
   "outputs": [],
   "source": [
    "result_test = pd.DataFrame(lpm.predict(X_test), columns=['pred_prob'])"
   ]
  },
  {
   "cell_type": "code",
   "execution_count": 49,
   "id": "29d35b9a",
   "metadata": {},
   "outputs": [
    {
     "data": {
      "text/html": [
       "<div>\n",
       "<style scoped>\n",
       "    .dataframe tbody tr th:only-of-type {\n",
       "        vertical-align: middle;\n",
       "    }\n",
       "\n",
       "    .dataframe tbody tr th {\n",
       "        vertical-align: top;\n",
       "    }\n",
       "\n",
       "    .dataframe thead th {\n",
       "        text-align: right;\n",
       "    }\n",
       "</style>\n",
       "<table border=\"1\" class=\"dataframe\">\n",
       "  <thead>\n",
       "    <tr style=\"text-align: right;\">\n",
       "      <th></th>\n",
       "      <th>pred_prob</th>\n",
       "      <th>binary</th>\n",
       "    </tr>\n",
       "  </thead>\n",
       "  <tbody>\n",
       "    <tr>\n",
       "      <th>0</th>\n",
       "      <td>0.103036</td>\n",
       "      <td>0</td>\n",
       "    </tr>\n",
       "    <tr>\n",
       "      <th>1</th>\n",
       "      <td>0.405443</td>\n",
       "      <td>0</td>\n",
       "    </tr>\n",
       "    <tr>\n",
       "      <th>2</th>\n",
       "      <td>0.098827</td>\n",
       "      <td>0</td>\n",
       "    </tr>\n",
       "    <tr>\n",
       "      <th>3</th>\n",
       "      <td>-0.057371</td>\n",
       "      <td>0</td>\n",
       "    </tr>\n",
       "    <tr>\n",
       "      <th>4</th>\n",
       "      <td>0.054121</td>\n",
       "      <td>0</td>\n",
       "    </tr>\n",
       "    <tr>\n",
       "      <th>5</th>\n",
       "      <td>0.176805</td>\n",
       "      <td>0</td>\n",
       "    </tr>\n",
       "    <tr>\n",
       "      <th>6</th>\n",
       "      <td>-0.025880</td>\n",
       "      <td>0</td>\n",
       "    </tr>\n",
       "    <tr>\n",
       "      <th>7</th>\n",
       "      <td>0.632950</td>\n",
       "      <td>1</td>\n",
       "    </tr>\n",
       "    <tr>\n",
       "      <th>8</th>\n",
       "      <td>-0.013727</td>\n",
       "      <td>0</td>\n",
       "    </tr>\n",
       "    <tr>\n",
       "      <th>9</th>\n",
       "      <td>0.073759</td>\n",
       "      <td>0</td>\n",
       "    </tr>\n",
       "  </tbody>\n",
       "</table>\n",
       "</div>"
      ],
      "text/plain": [
       "   pred_prob  binary\n",
       "0   0.103036       0\n",
       "1   0.405443       0\n",
       "2   0.098827       0\n",
       "3  -0.057371       0\n",
       "4   0.054121       0\n",
       "5   0.176805       0\n",
       "6  -0.025880       0\n",
       "7   0.632950       1\n",
       "8  -0.013727       0\n",
       "9   0.073759       0"
      ]
     },
     "execution_count": 49,
     "metadata": {},
     "output_type": "execute_result"
    }
   ],
   "source": [
    "result_test['binary'] = np.where(result_test.pred_prob >= optimal_threshold, 1,0)\n",
    "result_test.head(10)"
   ]
  },
  {
   "cell_type": "code",
   "execution_count": 50,
   "id": "a86efd23",
   "metadata": {},
   "outputs": [
    {
     "data": {
      "text/plain": [
       "array([[148,  16],\n",
       "       [  8,  28]])"
      ]
     },
     "execution_count": 50,
     "metadata": {},
     "output_type": "execute_result"
    }
   ],
   "source": [
    "confusion = confusion_matrix(y_test, result_test.binary)\n",
    "confusion"
   ]
  },
  {
   "cell_type": "markdown",
   "id": "152354b4",
   "metadata": {},
   "source": [
    "## Logistic Regression"
   ]
  },
  {
   "cell_type": "code",
   "execution_count": null,
   "id": "d4b5a98a",
   "metadata": {},
   "outputs": [],
   "source": [
    "logit_1 = sm.Logit(y_train, X_cons).fit()\n",
    "print(logit_1.summary())"
   ]
  },
  {
   "cell_type": "code",
   "execution_count": null,
   "id": "c5565606",
   "metadata": {},
   "outputs": [],
   "source": [
    "from sklearn.linear_model import LogisticRegression"
   ]
  },
  {
   "cell_type": "code",
   "execution_count": null,
   "id": "8e54faff",
   "metadata": {},
   "outputs": [],
   "source": [
    "logit_2 = LogisticRegression()\n",
    "logit_2.fit(x_train, y_train)"
   ]
  },
  {
   "cell_type": "code",
   "execution_count": null,
   "id": "3351637e",
   "metadata": {},
   "outputs": [],
   "source": [
    "print(logit_2.intercept_)\n",
    "print(logit_2.coef_)"
   ]
  },
  {
   "cell_type": "code",
   "execution_count": null,
   "id": "82a56bf7",
   "metadata": {},
   "outputs": [],
   "source": [
    "result_logit = pd.DataFrame(logit_2., columns=['pred_prob'])\n",
    "result_logit.head()"
   ]
  },
  {
   "cell_type": "code",
   "execution_count": null,
   "id": "525d7b26",
   "metadata": {},
   "outputs": [],
   "source": [
    "result_logit.pred_prob.plot(kind='hist', bins=30, xlim=([-1,1]))"
   ]
  }
 ],
 "metadata": {
  "kernelspec": {
   "display_name": "Python 3 (ipykernel)",
   "language": "python",
   "name": "python3"
  },
  "language_info": {
   "codemirror_mode": {
    "name": "ipython",
    "version": 3
   },
   "file_extension": ".py",
   "mimetype": "text/x-python",
   "name": "python",
   "nbconvert_exporter": "python",
   "pygments_lexer": "ipython3",
   "version": "3.11.2"
  }
 },
 "nbformat": 4,
 "nbformat_minor": 5
}
